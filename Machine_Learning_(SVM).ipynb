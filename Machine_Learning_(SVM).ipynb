{
 "cells": [
  {
   "cell_type": "markdown",
   "metadata": {},
   "source": [
    "# Machine Learning (SVM) "
   ]
  },
  {
   "cell_type": "code",
   "execution_count": null,
   "metadata": {},
   "outputs": [],
   "source": [
    "#Clasification by Machine Learning\n",
    "\n",
    "from sklearn import preprocessing\n",
    "from sklearn.model_selection import train_test_split\n",
    "from sklearn.preprocessing import MinMaxScaler\n",
    "\n",
    "# pre-processing data\n",
    "data = np.loadtxt('result4.csv', delimiter=',', dtype=float)\n",
    "labels = data[:, 0:1] # extract objective vatiance\n",
    "minmax = MinMaxScaler()\n",
    "fetures = minmax.fit(data[:, 1:])\n",
    "#features = preprocessing.minmax_scale(data[:, 1:]) # scalize the objective variance\n",
    "x_train, x_test, y_train, y_test = train_test_split(features, labels.ravel(), test_size=0.25) # sprit training data and test data\n",
    "\n",
    "# leagning model\n",
    "from sklearn import svm\n",
    "clf = svm.SVC(kernel='rbf', C=10, gamma=0.1) # clf is the averation of the classification\n",
    "clf.fit(x_train, y_train)\n",
    "clf.predict(x_test)\n",
    "from sklearn.metrics import accuracy_score, precision_score, recall_score\n",
    "\n",
    "# predict test data\n",
    "predict = clf.predict(x_test)\n",
    "print(accuracy_score(y_test, predict), precision_score(y_test, predict), recall_score(y_test, predict))"
   ]
  },
  {
   "cell_type": "code",
   "execution_count": null,
   "metadata": {},
   "outputs": [],
   "source": [
    "# predict experiment data\n",
    "data_test = np.array([[0.203,0.3333,0.111]])\n",
    "data_test_t = minmax.transform(data_test)\n",
    "data_test_t\n",
    "determin = clf.predict(data_test_t)\n",
    "print(determin, data_test_t)"
   ]
  }
 ],
 "metadata": {
  "kernelspec": {
   "display_name": "Python 3",
   "language": "python",
   "name": "python3"
  },
  "language_info": {
   "codemirror_mode": {
    "name": "ipython",
    "version": 3
   },
   "file_extension": ".py",
   "mimetype": "text/x-python",
   "name": "python",
   "nbconvert_exporter": "python",
   "pygments_lexer": "ipython3",
   "version": "3.6.3"
  }
 },
 "nbformat": 4,
 "nbformat_minor": 2
}
